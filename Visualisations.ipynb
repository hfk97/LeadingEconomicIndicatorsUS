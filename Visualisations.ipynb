{
 "cells": [
  {
   "cell_type": "markdown",
   "metadata": {},
   "source": [
    "# Visualizing U.S. leading economic indicators\n",
    "\n",
    "The following code visualizes leading economic indicators for the U.S. economy. The data is collected using custom classes (LeadingEconIndic and Idicator) and then visualized using plotly. \n",
    "\n",
    "*Disclaimer: This product uses the FRED® API but is not endorsed or certified by the Federal Reserve Bank of St. Louis.*"
   ]
  },
  {
   "cell_type": "code",
   "execution_count": null,
   "metadata": {},
   "outputs": [],
   "source": [
    "# import custom module\n",
    "from lei import *"
   ]
  },
  {
   "cell_type": "code",
   "execution_count": null,
   "metadata": {},
   "outputs": [],
   "source": [
    "# import necessary libraries\n",
    "import plotly.graph_objects as go\n",
    "import pandas as pd\n",
    "import plotly.io as pio"
   ]
  },
  {
   "cell_type": "code",
   "execution_count": null,
   "metadata": {},
   "outputs": [],
   "source": [
    "#load indicator data\n",
    "indicators = LeadingEconIndic()"
   ]
  },
  {
   "cell_type": "code",
   "execution_count": null,
   "metadata": {},
   "outputs": [],
   "source": [
    "# this function will be used to create shaded areas for the recession indicator\n",
    "def get_highliting_rectangle(start_date, end_date, fillcolor='red', opacity=0.25):\n",
    "    return dict(\n",
    "            type=\"rect\",\n",
    "            xref=\"x\",\n",
    "            yref=\"paper\",\n",
    "            x0=start_date,\n",
    "            y0=0,\n",
    "            x1=end_date,\n",
    "            y1=1,\n",
    "            fillcolor=fillcolor,\n",
    "            opacity=opacity,\n",
    "            layer=\"below\",\n",
    "            line_width=0\n",
    "        )"
   ]
  },
  {
   "cell_type": "code",
   "execution_count": null,
   "metadata": {},
   "outputs": [],
   "source": [
    "# plot all indicators\n",
    "for k, v in vars(indicators).items():\n",
    "    \n",
    "    if k == \"rec_dates\":\n",
    "        continue\n",
    "    \n",
    "    recession = indicators.rec_dates.copy()\n",
    "    recession.data = recession.data[recession.data.index.intersection(v.data.index)]\n",
    "\n",
    "    begin_dates = [recession.data.index[i] for i in range(len(recession.data)) if recession.data[i] and recession.data[i]!= recession.data[i-1]]\n",
    "    end_dates =[recession.data.index[i] for i in range(len(recession.data)) if recession.data[i] and recession.data[i]!= recession.data[i+1]]\n",
    "\n",
    "    pio.templates.default = \"seaborn\"\n",
    "    fig = go.Figure()\n",
    "    fig.add_trace(go.Scatter(x=v.data.index, y=v.data[:],\n",
    "                            line_color='dimgrey'))\n",
    "\n",
    "    shapes = []\n",
    "    for i in range(len(begin_dates)):\n",
    "        shapes.append(get_highliting_rectangle(begin_dates[i],end_dates[i]))\n",
    "\n",
    "    fig.update_layout(title_text=v.name,yaxis_title=v.unit,\n",
    "        xaxis=dict(title = \"Date\",\n",
    "        rangeselector=dict(\n",
    "            buttons=list([\n",
    "                dict(count=1,\n",
    "                     label=\"1m\",\n",
    "                     step=\"month\",\n",
    "                     stepmode=\"backward\"),\n",
    "                dict(count=6,\n",
    "                     label=\"6m\",\n",
    "                     step=\"month\",\n",
    "                     stepmode=\"backward\"),\n",
    "                dict(count=1,\n",
    "                     label=\"YTD\",\n",
    "                     step=\"year\",\n",
    "                     stepmode=\"todate\"),\n",
    "                dict(count=1,\n",
    "                     label=\"1y\",\n",
    "                     step=\"year\",\n",
    "                     stepmode=\"backward\"),\n",
    "                dict(step=\"all\")])\n",
    "            ),\n",
    "        rangeslider=dict(visible=True),range = ['2007-01-01', v.data.index[-1]],type=\"date\"), \n",
    "        shapes=shapes,\n",
    "        annotations=[\n",
    "            go.layout.Annotation(\n",
    "            showarrow=False,\n",
    "            text=v.src,\n",
    "            font=dict(\n",
    "            size=10,\n",
    "            color=\"black\"\n",
    "            ),\n",
    "            xref = 'paper', x = 0,\n",
    "            yref = 'paper', y = -0.6\n",
    "        ),go.layout.Annotation(\n",
    "            showarrow=False,\n",
    "            text=\"Shaded areas indicate U.S. recessions\",\n",
    "            font=dict(\n",
    "            size=10,\n",
    "            color=\"black\"\n",
    "            ),\n",
    "            xref = 'paper', x = 1,\n",
    "            yref = 'paper', y = 1.1\n",
    "        )])\n",
    "\n",
    "    fig.show(renderer=\"notebook\")\n"
   ]
  }
 ],
 "metadata": {
  "kernelspec": {
   "display_name": "Python 3",
   "language": "python",
   "name": "python3"
  },
  "language_info": {
   "codemirror_mode": {
    "name": "ipython",
    "version": 3
   },
   "file_extension": ".py",
   "mimetype": "text/x-python",
   "name": "python",
   "nbconvert_exporter": "python",
   "pygments_lexer": "ipython3",
   "version": "3.7.6"
  }
 },
 "nbformat": 4,
 "nbformat_minor": 2
}
